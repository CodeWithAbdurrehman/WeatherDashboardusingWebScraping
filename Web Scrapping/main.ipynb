{
 "cells": [
  {
   "cell_type": "code",
   "execution_count": 185,
   "metadata": {},
   "outputs": [],
   "source": [
    "import requests\n",
    "from bs4 import BeautifulSoup \n",
    "import pandas as pd"
   ]
  },
  {
   "cell_type": "markdown",
   "metadata": {},
   "source": [
    "# Lahore next 14 dayes wheather Report\n",
    "https://www.timeanddate.com/weather/pakistan/lahore/ext"
   ]
  },
  {
   "cell_type": "code",
   "execution_count": 186,
   "metadata": {},
   "outputs": [],
   "source": [
    "def saveFile(url,path):\n",
    "    r = requests.get(url)\n",
    "    with open(path,'w',encoding='utf-8') as f:\n",
    "        string = r.text\n",
    "        f.write(string)\n"
   ]
  },
  {
   "cell_type": "code",
   "execution_count": 187,
   "metadata": {},
   "outputs": [],
   "source": [
    "r = requests.get(\"https://www.timeanddate.com/weather/pakistan/karachi/ext\")"
   ]
  },
  {
   "cell_type": "code",
   "execution_count": 209,
   "metadata": {},
   "outputs": [
    {
     "data": {
      "text/plain": [
       "'text/html; charset=UTF-8'"
      ]
     },
     "execution_count": 209,
     "metadata": {},
     "output_type": "execute_result"
    }
   ],
   "source": [
    "r.headers['Content-Type']\n"
   ]
  },
  {
   "cell_type": "code",
   "execution_count": 188,
   "metadata": {},
   "outputs": [],
   "source": [
    "soup = BeautifulSoup(r.text,\"html.parser\")"
   ]
  },
  {
   "cell_type": "code",
   "execution_count": 189,
   "metadata": {},
   "outputs": [],
   "source": [
    "th_elements = soup.find_all('th')"
   ]
  },
  {
   "cell_type": "code",
   "execution_count": 190,
   "metadata": {},
   "outputs": [],
   "source": [
    "my_dict = {'Day':[],'Date':[],'Temperature':[],'Weather':[],'Feels Like':[],'Wind':[],'Humidity':[],'Chances':[],'Amount':[],'UV':[],'Sunrise':[],'Sunset':[]}"
   ]
  },
  {
   "cell_type": "markdown",
   "metadata": {},
   "source": [
    "# getting date and day column"
   ]
  },
  {
   "cell_type": "code",
   "execution_count": 191,
   "metadata": {},
   "outputs": [],
   "source": [
    "for th in th_elements:\n",
    "    if th.find('span',class_='smaller soft'):\n",
    "        day = th.find('span', class_='smaller soft').text.strip()\n",
    "        date = th.br.next_sibling.strip()\n",
    "        my_dict['Day'].append(day)\n",
    "        my_dict['Date'].append(date)\n",
    "    "
   ]
  },
  {
   "cell_type": "markdown",
   "metadata": {},
   "source": [
    "# Getting temperature"
   ]
  },
  {
   "cell_type": "code",
   "execution_count": 192,
   "metadata": {},
   "outputs": [],
   "source": [
    "tr_elements = soup.find_all('tr')\n",
    "for tr in tr_elements:\n",
    "    td_elements = tr.find_all('td')\n",
    "    if len(td_elements) >= 2:\n",
    "        temperature = td_elements[1].text.strip()\n",
    "        my_dict['Temperature'].append(temperature)\n",
    "        "
   ]
  },
  {
   "cell_type": "markdown",
   "metadata": {},
   "source": [
    "# Getting Weather status"
   ]
  },
  {
   "cell_type": "code",
   "execution_count": 193,
   "metadata": {},
   "outputs": [],
   "source": [
    "for tr in tr_elements:\n",
    "    if tr.find(class_='small'):\n",
    "        status = tr.find(class_='small')\n",
    "        my_dict['Weather'].append(status.text)\n",
    "        "
   ]
  },
  {
   "cell_type": "markdown",
   "metadata": {},
   "source": [
    "# Feels like"
   ]
  },
  {
   "cell_type": "code",
   "execution_count": 194,
   "metadata": {},
   "outputs": [],
   "source": [
    "for tr in tr_elements:\n",
    "    if tr.find(class_='sep'):\n",
    "        Feel_like = tr.find(class_='sep')\n",
    "        if Feel_like.text != 'Conditions':\n",
    "            my_dict['Feels Like'].append(Feel_like.text)\n"
   ]
  },
  {
   "cell_type": "markdown",
   "metadata": {},
   "source": [
    "# Wind\n"
   ]
  },
  {
   "cell_type": "code",
   "execution_count": 195,
   "metadata": {},
   "outputs": [],
   "source": [
    "for tr in tr_elements:\n",
    "    td_elements = tr.find_all('td')\n",
    "    if len(td_elements) >=5 :\n",
    "        wind = td_elements[4].text.strip()\n",
    "        my_dict['Wind'].append(wind)\n"
   ]
  },
  {
   "cell_type": "markdown",
   "metadata": {},
   "source": [
    "# Humidity"
   ]
  },
  {
   "cell_type": "code",
   "execution_count": 196,
   "metadata": {},
   "outputs": [],
   "source": [
    "for tr in tr_elements:\n",
    "    td_elements = tr.find_all('td')\n",
    "    if len(td_elements) >=6 :\n",
    "        Humidity = td_elements[6].text.strip()\n",
    "        my_dict['Humidity'].append(Humidity)\n"
   ]
  },
  {
   "cell_type": "markdown",
   "metadata": {},
   "source": [
    "# Chances"
   ]
  },
  {
   "cell_type": "code",
   "execution_count": 197,
   "metadata": {},
   "outputs": [],
   "source": [
    "for tr in tr_elements:\n",
    "    td_elements = tr.find_all('td')\n",
    "    if len(td_elements) >=7 :\n",
    "        chances = td_elements[7].text.strip()\n",
    "        my_dict['Chances'].append(chances)\n"
   ]
  },
  {
   "cell_type": "markdown",
   "metadata": {},
   "source": [
    "# amount"
   ]
  },
  {
   "cell_type": "code",
   "execution_count": 198,
   "metadata": {},
   "outputs": [],
   "source": [
    "for tr in tr_elements:\n",
    "    td_elements = tr.find_all('td')\n",
    "    if len(td_elements) >=8 :\n",
    "        amount = td_elements[8].text.strip()\n",
    "        my_dict['Amount'].append(amount)\n"
   ]
  },
  {
   "cell_type": "markdown",
   "metadata": {},
   "source": [
    "# UV"
   ]
  },
  {
   "cell_type": "code",
   "execution_count": 199,
   "metadata": {},
   "outputs": [],
   "source": [
    "for tr in tr_elements:\n",
    "    td_elements = tr.find_all('td')\n",
    "    if len(td_elements) >=9 :\n",
    "        uv = td_elements[9].text.strip()\n",
    "        my_dict['UV'].append(uv)\n"
   ]
  },
  {
   "cell_type": "markdown",
   "metadata": {},
   "source": [
    "# Sunrise"
   ]
  },
  {
   "cell_type": "code",
   "execution_count": 200,
   "metadata": {},
   "outputs": [],
   "source": [
    "for tr in tr_elements:\n",
    "    td_elements = tr.find_all('td')\n",
    "    if len(td_elements) >=10 :\n",
    "        sunrise = td_elements[10].text.strip()\n",
    "        my_dict['Sunrise'].append(sunrise)\n"
   ]
  },
  {
   "cell_type": "markdown",
   "metadata": {},
   "source": [
    "# sunset"
   ]
  },
  {
   "cell_type": "code",
   "execution_count": 201,
   "metadata": {},
   "outputs": [],
   "source": [
    "for tr in tr_elements:\n",
    "    td_elements = tr.find_all('td')\n",
    "    if len(td_elements) >=11 :\n",
    "        sunset = td_elements[11].text.strip()\n",
    "        my_dict['Sunset'].append(sunset)\n"
   ]
  },
  {
   "cell_type": "code",
   "execution_count": 202,
   "metadata": {},
   "outputs": [
    {
     "name": "stdout",
     "output_type": "stream",
     "text": [
      "{'Day': ['Thu', 'Fri', 'Sat', 'Sun', 'Mon', 'Tue', 'Wed', 'Thu', 'Fri', 'Sat', 'Sun', 'Mon', 'Tue', 'Wed', 'Thu'], 'Date': ['3 Aug', '4 Aug', '5 Aug', '6 Aug', '7 Aug', '8 Aug', '9 Aug', '10 Aug', '11 Aug', '12 Aug', '13 Aug', '14 Aug', '15 Aug', '16 Aug', '17 Aug'], 'Temperature': ['31 / 28\\xa0°C', '31 / 28\\xa0°C', '31 / 28\\xa0°C', '31 / 27\\xa0°C', '31 / 28\\xa0°C', '30 / 28\\xa0°C', '31 / 28\\xa0°C', '31 / 27\\xa0°C', '30 / 28\\xa0°C', '30 / 28\\xa0°C', '30 / 28\\xa0°C', '31 / 28\\xa0°C', '31 / 28\\xa0°C', '31 / 29\\xa0°C', '31 / 29\\xa0°C'], 'Weather': ['Cloudy.', 'Cloudy.', 'Overcast.', 'Cloudy.', 'Overcast.', 'Overcast.', 'Overcast.', 'Overcast.', 'Passing showers. Overcast.', 'Isolated tstorms late. Overcast.', 'Isolated tstorms. Overcast.', 'Isolated tstorms. Overcast.', 'Isolated tstorms. Overcast.', 'Showers early. Mostly cloudy.', 'Showers early. Cloudy.'], 'Feels Like': ['\\xa0', '36\\xa0°C', '36\\xa0°C', '37\\xa0°C', '36\\xa0°C', '36\\xa0°C', '36\\xa0°C', '37\\xa0°C', '36\\xa0°C', '37\\xa0°C', '36\\xa0°C', '37\\xa0°C', '36\\xa0°C', '38\\xa0°C', '38\\xa0°C', '37\\xa0°C'], 'Wind': ['32 km/h', '26 km/h', '30 km/h', '37 km/h', '35 km/h', '31 km/h', '32 km/h', '32 km/h', '26 km/h', '25 km/h', '29 km/h', '24 km/h', '23 km/h', '27 km/h', '24 km/h'], 'Humidity': ['67%', '68%', '66%', '66%', '69%', '71%', '68%', '68%', '73%', '71%', '73%', '70%', '75%', '73%', '70%'], 'Chances': ['0%', '2%', '1%', '0%', '0%', '3%', '1%', '5%', '45%', '42%', '44%', '42%', '47%', '51%', '43%'], 'Amount': ['-', '-', '-', '-', '-', '-', '-', '-', '0.5  mm', '0.3  mm', '1.4  mm', '0.4  mm', '1.1  mm', '1.0  mm', '0.2  mm'], 'UV': ['7 (High)', '7 (High)', '5 (Moderate)', '5 (Moderate)', '3 (Moderate)', '3 (Moderate)', '5 (Moderate)', '3 (Moderate)', '5 (Moderate)', '5 (Moderate)', '5 (Moderate)', '5 (Moderate)', '5 (Moderate)', '5 (Moderate)', '5 (Moderate)'], 'Sunrise': ['06:00', '06:00', '06:01', '06:01', '06:02', '06:02', '06:03', '06:03', '06:04', '06:04', '06:04', '06:05', '06:05', '06:06', '06:06'], 'Sunset': ['19:15', '19:14', '19:14', '19:13', '19:12', '19:12', '19:11', '19:10', '19:09', '19:09', '19:08', '19:07', '19:06', '19:05', '19:05']}\n"
     ]
    }
   ],
   "source": [
    "print(my_dict)"
   ]
  },
  {
   "cell_type": "code",
   "execution_count": 203,
   "metadata": {},
   "outputs": [],
   "source": [
    "my_dict['Feels Like'] = my_dict['Feels Like'][1:]"
   ]
  },
  {
   "cell_type": "code",
   "execution_count": 204,
   "metadata": {},
   "outputs": [
    {
     "data": {
      "text/html": [
       "<div>\n",
       "<style scoped>\n",
       "    .dataframe tbody tr th:only-of-type {\n",
       "        vertical-align: middle;\n",
       "    }\n",
       "\n",
       "    .dataframe tbody tr th {\n",
       "        vertical-align: top;\n",
       "    }\n",
       "\n",
       "    .dataframe thead th {\n",
       "        text-align: right;\n",
       "    }\n",
       "</style>\n",
       "<table border=\"1\" class=\"dataframe\">\n",
       "  <thead>\n",
       "    <tr style=\"text-align: right;\">\n",
       "      <th></th>\n",
       "      <th>Day</th>\n",
       "      <th>Date</th>\n",
       "      <th>Temperature</th>\n",
       "      <th>Weather</th>\n",
       "      <th>Feels Like</th>\n",
       "      <th>Wind</th>\n",
       "      <th>Humidity</th>\n",
       "      <th>Chances</th>\n",
       "      <th>Amount</th>\n",
       "      <th>UV</th>\n",
       "      <th>Sunrise</th>\n",
       "      <th>Sunset</th>\n",
       "    </tr>\n",
       "  </thead>\n",
       "  <tbody>\n",
       "    <tr>\n",
       "      <th>0</th>\n",
       "      <td>Thu</td>\n",
       "      <td>3 Aug</td>\n",
       "      <td>31 / 28 °C</td>\n",
       "      <td>Cloudy.</td>\n",
       "      <td>36 °C</td>\n",
       "      <td>32 km/h</td>\n",
       "      <td>67%</td>\n",
       "      <td>0%</td>\n",
       "      <td>-</td>\n",
       "      <td>7 (High)</td>\n",
       "      <td>06:00</td>\n",
       "      <td>19:15</td>\n",
       "    </tr>\n",
       "    <tr>\n",
       "      <th>1</th>\n",
       "      <td>Fri</td>\n",
       "      <td>4 Aug</td>\n",
       "      <td>31 / 28 °C</td>\n",
       "      <td>Cloudy.</td>\n",
       "      <td>36 °C</td>\n",
       "      <td>26 km/h</td>\n",
       "      <td>68%</td>\n",
       "      <td>2%</td>\n",
       "      <td>-</td>\n",
       "      <td>7 (High)</td>\n",
       "      <td>06:00</td>\n",
       "      <td>19:14</td>\n",
       "    </tr>\n",
       "    <tr>\n",
       "      <th>2</th>\n",
       "      <td>Sat</td>\n",
       "      <td>5 Aug</td>\n",
       "      <td>31 / 28 °C</td>\n",
       "      <td>Overcast.</td>\n",
       "      <td>37 °C</td>\n",
       "      <td>30 km/h</td>\n",
       "      <td>66%</td>\n",
       "      <td>1%</td>\n",
       "      <td>-</td>\n",
       "      <td>5 (Moderate)</td>\n",
       "      <td>06:01</td>\n",
       "      <td>19:14</td>\n",
       "    </tr>\n",
       "    <tr>\n",
       "      <th>3</th>\n",
       "      <td>Sun</td>\n",
       "      <td>6 Aug</td>\n",
       "      <td>31 / 27 °C</td>\n",
       "      <td>Cloudy.</td>\n",
       "      <td>36 °C</td>\n",
       "      <td>37 km/h</td>\n",
       "      <td>66%</td>\n",
       "      <td>0%</td>\n",
       "      <td>-</td>\n",
       "      <td>5 (Moderate)</td>\n",
       "      <td>06:01</td>\n",
       "      <td>19:13</td>\n",
       "    </tr>\n",
       "    <tr>\n",
       "      <th>4</th>\n",
       "      <td>Mon</td>\n",
       "      <td>7 Aug</td>\n",
       "      <td>31 / 28 °C</td>\n",
       "      <td>Overcast.</td>\n",
       "      <td>36 °C</td>\n",
       "      <td>35 km/h</td>\n",
       "      <td>69%</td>\n",
       "      <td>0%</td>\n",
       "      <td>-</td>\n",
       "      <td>3 (Moderate)</td>\n",
       "      <td>06:02</td>\n",
       "      <td>19:12</td>\n",
       "    </tr>\n",
       "    <tr>\n",
       "      <th>5</th>\n",
       "      <td>Tue</td>\n",
       "      <td>8 Aug</td>\n",
       "      <td>30 / 28 °C</td>\n",
       "      <td>Overcast.</td>\n",
       "      <td>36 °C</td>\n",
       "      <td>31 km/h</td>\n",
       "      <td>71%</td>\n",
       "      <td>3%</td>\n",
       "      <td>-</td>\n",
       "      <td>3 (Moderate)</td>\n",
       "      <td>06:02</td>\n",
       "      <td>19:12</td>\n",
       "    </tr>\n",
       "    <tr>\n",
       "      <th>6</th>\n",
       "      <td>Wed</td>\n",
       "      <td>9 Aug</td>\n",
       "      <td>31 / 28 °C</td>\n",
       "      <td>Overcast.</td>\n",
       "      <td>37 °C</td>\n",
       "      <td>32 km/h</td>\n",
       "      <td>68%</td>\n",
       "      <td>1%</td>\n",
       "      <td>-</td>\n",
       "      <td>5 (Moderate)</td>\n",
       "      <td>06:03</td>\n",
       "      <td>19:11</td>\n",
       "    </tr>\n",
       "    <tr>\n",
       "      <th>7</th>\n",
       "      <td>Thu</td>\n",
       "      <td>10 Aug</td>\n",
       "      <td>31 / 27 °C</td>\n",
       "      <td>Overcast.</td>\n",
       "      <td>36 °C</td>\n",
       "      <td>32 km/h</td>\n",
       "      <td>68%</td>\n",
       "      <td>5%</td>\n",
       "      <td>-</td>\n",
       "      <td>3 (Moderate)</td>\n",
       "      <td>06:03</td>\n",
       "      <td>19:10</td>\n",
       "    </tr>\n",
       "    <tr>\n",
       "      <th>8</th>\n",
       "      <td>Fri</td>\n",
       "      <td>11 Aug</td>\n",
       "      <td>30 / 28 °C</td>\n",
       "      <td>Passing showers. Overcast.</td>\n",
       "      <td>37 °C</td>\n",
       "      <td>26 km/h</td>\n",
       "      <td>73%</td>\n",
       "      <td>45%</td>\n",
       "      <td>0.5  mm</td>\n",
       "      <td>5 (Moderate)</td>\n",
       "      <td>06:04</td>\n",
       "      <td>19:09</td>\n",
       "    </tr>\n",
       "    <tr>\n",
       "      <th>9</th>\n",
       "      <td>Sat</td>\n",
       "      <td>12 Aug</td>\n",
       "      <td>30 / 28 °C</td>\n",
       "      <td>Isolated tstorms late. Overcast.</td>\n",
       "      <td>36 °C</td>\n",
       "      <td>25 km/h</td>\n",
       "      <td>71%</td>\n",
       "      <td>42%</td>\n",
       "      <td>0.3  mm</td>\n",
       "      <td>5 (Moderate)</td>\n",
       "      <td>06:04</td>\n",
       "      <td>19:09</td>\n",
       "    </tr>\n",
       "    <tr>\n",
       "      <th>10</th>\n",
       "      <td>Sun</td>\n",
       "      <td>13 Aug</td>\n",
       "      <td>30 / 28 °C</td>\n",
       "      <td>Isolated tstorms. Overcast.</td>\n",
       "      <td>37 °C</td>\n",
       "      <td>29 km/h</td>\n",
       "      <td>73%</td>\n",
       "      <td>44%</td>\n",
       "      <td>1.4  mm</td>\n",
       "      <td>5 (Moderate)</td>\n",
       "      <td>06:04</td>\n",
       "      <td>19:08</td>\n",
       "    </tr>\n",
       "    <tr>\n",
       "      <th>11</th>\n",
       "      <td>Mon</td>\n",
       "      <td>14 Aug</td>\n",
       "      <td>31 / 28 °C</td>\n",
       "      <td>Isolated tstorms. Overcast.</td>\n",
       "      <td>36 °C</td>\n",
       "      <td>24 km/h</td>\n",
       "      <td>70%</td>\n",
       "      <td>42%</td>\n",
       "      <td>0.4  mm</td>\n",
       "      <td>5 (Moderate)</td>\n",
       "      <td>06:05</td>\n",
       "      <td>19:07</td>\n",
       "    </tr>\n",
       "    <tr>\n",
       "      <th>12</th>\n",
       "      <td>Tue</td>\n",
       "      <td>15 Aug</td>\n",
       "      <td>31 / 28 °C</td>\n",
       "      <td>Isolated tstorms. Overcast.</td>\n",
       "      <td>38 °C</td>\n",
       "      <td>23 km/h</td>\n",
       "      <td>75%</td>\n",
       "      <td>47%</td>\n",
       "      <td>1.1  mm</td>\n",
       "      <td>5 (Moderate)</td>\n",
       "      <td>06:05</td>\n",
       "      <td>19:06</td>\n",
       "    </tr>\n",
       "    <tr>\n",
       "      <th>13</th>\n",
       "      <td>Wed</td>\n",
       "      <td>16 Aug</td>\n",
       "      <td>31 / 29 °C</td>\n",
       "      <td>Showers early. Mostly cloudy.</td>\n",
       "      <td>38 °C</td>\n",
       "      <td>27 km/h</td>\n",
       "      <td>73%</td>\n",
       "      <td>51%</td>\n",
       "      <td>1.0  mm</td>\n",
       "      <td>5 (Moderate)</td>\n",
       "      <td>06:06</td>\n",
       "      <td>19:05</td>\n",
       "    </tr>\n",
       "    <tr>\n",
       "      <th>14</th>\n",
       "      <td>Thu</td>\n",
       "      <td>17 Aug</td>\n",
       "      <td>31 / 29 °C</td>\n",
       "      <td>Showers early. Cloudy.</td>\n",
       "      <td>37 °C</td>\n",
       "      <td>24 km/h</td>\n",
       "      <td>70%</td>\n",
       "      <td>43%</td>\n",
       "      <td>0.2  mm</td>\n",
       "      <td>5 (Moderate)</td>\n",
       "      <td>06:06</td>\n",
       "      <td>19:05</td>\n",
       "    </tr>\n",
       "  </tbody>\n",
       "</table>\n",
       "</div>"
      ],
      "text/plain": [
       "    Day    Date Temperature                           Weather Feels Like  \\\n",
       "0   Thu   3 Aug  31 / 28 °C                           Cloudy.      36 °C   \n",
       "1   Fri   4 Aug  31 / 28 °C                           Cloudy.      36 °C   \n",
       "2   Sat   5 Aug  31 / 28 °C                         Overcast.      37 °C   \n",
       "3   Sun   6 Aug  31 / 27 °C                           Cloudy.      36 °C   \n",
       "4   Mon   7 Aug  31 / 28 °C                         Overcast.      36 °C   \n",
       "5   Tue   8 Aug  30 / 28 °C                         Overcast.      36 °C   \n",
       "6   Wed   9 Aug  31 / 28 °C                         Overcast.      37 °C   \n",
       "7   Thu  10 Aug  31 / 27 °C                         Overcast.      36 °C   \n",
       "8   Fri  11 Aug  30 / 28 °C        Passing showers. Overcast.      37 °C   \n",
       "9   Sat  12 Aug  30 / 28 °C  Isolated tstorms late. Overcast.      36 °C   \n",
       "10  Sun  13 Aug  30 / 28 °C       Isolated tstorms. Overcast.      37 °C   \n",
       "11  Mon  14 Aug  31 / 28 °C       Isolated tstorms. Overcast.      36 °C   \n",
       "12  Tue  15 Aug  31 / 28 °C       Isolated tstorms. Overcast.      38 °C   \n",
       "13  Wed  16 Aug  31 / 29 °C     Showers early. Mostly cloudy.      38 °C   \n",
       "14  Thu  17 Aug  31 / 29 °C            Showers early. Cloudy.      37 °C   \n",
       "\n",
       "       Wind Humidity Chances   Amount            UV Sunrise Sunset  \n",
       "0   32 km/h      67%      0%        -      7 (High)   06:00  19:15  \n",
       "1   26 km/h      68%      2%        -      7 (High)   06:00  19:14  \n",
       "2   30 km/h      66%      1%        -  5 (Moderate)   06:01  19:14  \n",
       "3   37 km/h      66%      0%        -  5 (Moderate)   06:01  19:13  \n",
       "4   35 km/h      69%      0%        -  3 (Moderate)   06:02  19:12  \n",
       "5   31 km/h      71%      3%        -  3 (Moderate)   06:02  19:12  \n",
       "6   32 km/h      68%      1%        -  5 (Moderate)   06:03  19:11  \n",
       "7   32 km/h      68%      5%        -  3 (Moderate)   06:03  19:10  \n",
       "8   26 km/h      73%     45%  0.5  mm  5 (Moderate)   06:04  19:09  \n",
       "9   25 km/h      71%     42%  0.3  mm  5 (Moderate)   06:04  19:09  \n",
       "10  29 km/h      73%     44%  1.4  mm  5 (Moderate)   06:04  19:08  \n",
       "11  24 km/h      70%     42%  0.4  mm  5 (Moderate)   06:05  19:07  \n",
       "12  23 km/h      75%     47%  1.1  mm  5 (Moderate)   06:05  19:06  \n",
       "13  27 km/h      73%     51%  1.0  mm  5 (Moderate)   06:06  19:05  \n",
       "14  24 km/h      70%     43%  0.2  mm  5 (Moderate)   06:06  19:05  "
      ]
     },
     "execution_count": 204,
     "metadata": {},
     "output_type": "execute_result"
    }
   ],
   "source": [
    "df = pd.DataFrame.from_dict(my_dict)\n",
    "df\n",
    "# print(len(my_dict['Feels Like']))"
   ]
  },
  {
   "cell_type": "markdown",
   "metadata": {},
   "source": [
    "# saving to CSV File"
   ]
  },
  {
   "cell_type": "code",
   "execution_count": 205,
   "metadata": {},
   "outputs": [],
   "source": [
    "df.to_csv('data/KHRreport.csv',index = False)"
   ]
  },
  {
   "cell_type": "code",
   "execution_count": null,
   "metadata": {},
   "outputs": [],
   "source": []
  }
 ],
 "metadata": {
  "kernelspec": {
   "display_name": "Python 3",
   "language": "python",
   "name": "python3"
  },
  "language_info": {
   "codemirror_mode": {
    "name": "ipython",
    "version": 3
   },
   "file_extension": ".py",
   "mimetype": "text/x-python",
   "name": "python",
   "nbconvert_exporter": "python",
   "pygments_lexer": "ipython3",
   "version": "3.11.1"
  },
  "orig_nbformat": 4
 },
 "nbformat": 4,
 "nbformat_minor": 2
}
